{
 "cells": [
  {
   "cell_type": "code",
   "execution_count": 1,
   "id": "6f8bf6b7",
   "metadata": {},
   "outputs": [
    {
     "name": "stdout",
     "output_type": "stream",
     "text": [
      "content='你好👋！我是人工智能助手智谱清言（ChatGLM），很高兴见到你，欢迎问我任何问题。' additional_kwargs={} response_metadata={'token_usage': {'completion_tokens': 28, 'prompt_tokens': 8, 'total_tokens': 36}, 'model_name': 'glm-4-plus', 'finish_reason': 'stop'} id='run--993e4cc9-464b-4a4b-a5b9-c99e9f44b824-0'\n"
     ]
    }
   ],
   "source": [
    "import os\n",
    "from dotenv import load_dotenv\n",
    "\n",
    "# 从 .env 文件中加载环境变量。\n",
    "load_dotenv()\n",
    "\n",
    "from langchain_community.chat_models import ChatZhipuAI\n",
    "\n",
    "# 创建一个 LLM 对象，并设置相关参数。\n",
    "llm = ChatZhipuAI(\n",
    "    temperature=0,  # 控制生成文本的随机性，值越高生成的文本越随机\n",
    "    model=\"glm-4-plus\",  # 指定使用的语言模型\n",
    "    zhipuai_api_key=os.getenv('ZHIPUAI_API_KEY'),\n",
    ")\n",
    "\n",
    "print(llm.invoke('你好'))"
   ]
  },
  {
   "cell_type": "code",
   "execution_count": 2,
   "id": "94156013",
   "metadata": {},
   "outputs": [
    {
     "name": "stdout",
     "output_type": "stream",
     "text": [
      "messages=[SystemMessage(content='You are a helpful assistant', additional_kwargs={}, response_metadata={}), HumanMessage(content='Tell me a joke about cats', additional_kwargs={}, response_metadata={})]\n",
      "content=\"Sure! Here's a light-hearted joke involving the number 1:\\n\\nWhy was the number 1 lonely?\\n\\nBecause it's the only one! 🤓\\n\\nHope that brought a smile to your face! If you need more jokes or anything else, feel free to ask.\" additional_kwargs={} response_metadata={'token_usage': {'completion_tokens': 58, 'prompt_tokens': 19, 'total_tokens': 77}, 'model_name': 'glm-4-plus', 'finish_reason': 'stop'} id='run--638fff40-ae52-47c9-9dd7-b52d02595894-0'\n"
     ]
    }
   ],
   "source": [
    "# 加入prompt\n",
    "from langchain_core.prompts import ChatPromptTemplate\n",
    "\n",
    "prompt_template = ChatPromptTemplate([\n",
    "    (\"system\", \"You are a helpful assistant\"),\n",
    "    (\"user\", \"Tell me a joke about {topic}\")\n",
    "])\n",
    "\n",
    "print(prompt_template.invoke({\"topic\": \"cats\"}))\n",
    "\n",
    "chain = prompt_template | llm\n",
    "\n",
    "print(chain.invoke({\"topic\": \"1\"}))"
   ]
  },
  {
   "cell_type": "code",
   "execution_count": null,
   "id": "ef6d7cd1",
   "metadata": {},
   "outputs": [],
   "source": []
  }
 ],
 "metadata": {
  "kernelspec": {
   "display_name": "IBMai_env",
   "language": "python",
   "name": "python3"
  },
  "language_info": {
   "codemirror_mode": {
    "name": "ipython",
    "version": 3
   },
   "file_extension": ".py",
   "mimetype": "text/x-python",
   "name": "python",
   "nbconvert_exporter": "python",
   "pygments_lexer": "ipython3",
   "version": "3.11.13"
  }
 },
 "nbformat": 4,
 "nbformat_minor": 5
}
